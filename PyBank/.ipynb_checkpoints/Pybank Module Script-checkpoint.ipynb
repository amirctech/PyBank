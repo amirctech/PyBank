{
 "cells": [
  {
   "cell_type": "code",
   "execution_count": 1,
   "id": "a0fb8363-6d06-4a20-8a25-147b18edb8fc",
   "metadata": {},
   "outputs": [],
   "source": [
    "#Import CSV via Path\n",
    "import csv\n",
    "from pathlib import Path"
   ]
  },
  {
   "cell_type": "code",
   "execution_count": 2,
   "id": "12e62132-7575-490c-8cd3-2f5eadfb9898",
   "metadata": {},
   "outputs": [],
   "source": [
    "#Create Variable for File Path of CSV\n",
    "input_file = Path('budget_data.csv')"
   ]
  },
  {
   "cell_type": "code",
   "execution_count": 3,
   "id": "822e959c-ca98-4783-b97a-5684db4ea824",
   "metadata": {},
   "outputs": [],
   "source": [
    "#Establish Metrics\n",
    "total_months = 0\n",
    "month_of_change = []\n",
    "net_changes_list = []\n",
    "greatest_increase = ['', 0]\n",
    "greatest_decrease = ['', 9999999999999999999]\n",
    "total_net = 0\n"
   ]
  },
  {
   "cell_type": "code",
   "execution_count": 4,
   "id": "b25b179b-3fac-48da-aa21-fd660d04b786",
   "metadata": {},
   "outputs": [
    {
     "name": "stdout",
     "output_type": "stream",
     "text": [
      " ------ Financial Analysis ------\n",
      "Total Month: 86\n",
      "Total: $38382578 \n",
      "Average Change: $-2315.12 \n",
      "Greatest Increase in Profits: Feb-2012 ($1926159)\n",
      "Greatest Decrease in Profits: Sep-2013 ($-2196167)\n"
     ]
    }
   ],
   "source": [
    "#Open & Read the Budget Data \n",
    "with open(input_file) as data:\n",
    "    reader = csv.reader(data)\n",
    "    \n",
    "    header = next(reader)\n",
    "    \n",
    "    first_row = next(reader)\n",
    "    total_months = total_months + 1\n",
    "    \n",
    "    total_net = total_net + int(first_row[1])\n",
    "    prev_net = int(first_row[1])\n",
    "    \n",
    "    #Iterate through the Months & Profits/Losses\n",
    "    for row in reader:\n",
    "        total_months = total_months + 1\n",
    "        total_net = total_net + int(row[1])\n",
    "\n",
    "        #Track the Net Change\n",
    "        net_changes = int(row[1]) - prev_net\n",
    "        prev_net = int(row[1])\n",
    "        net_changes_list = net_changes_list + [net_changes]\n",
    "        month_of_change = month_of_change + [row[0]]\n",
    "        \n",
    "        #Calculate the Greatest Increase\n",
    "        if net_changes > greatest_increase[1]:\n",
    "            greatest_increase[0] = row[0]\n",
    "            greatest_increase[1] = net_changes\n",
    "        \n",
    "        #Calculate the Greatest Decrease \n",
    "        if net_changes < greatest_decrease[1]:    \n",
    "            greatest_decrease[0] = row[0]\n",
    "            greatest_decrease[1] = net_changes\n",
    "          \n",
    "        \n",
    "#Calculate the Average Change \n",
    "average = round(sum(net_changes_list) / len(net_changes_list), 2)\n",
    "\n",
    "#Create Variable for Results\n",
    "Results = (\n",
    "f\" ------ Financial Analysis ------\\n\"\n",
    "f\"Total Month: {total_months}\\n\"\n",
    "f\"Total: ${total_net} \\n\"\n",
    "f\"Average Change: ${average} \\n\"\n",
    "f\"Greatest Increase in Profits: {greatest_increase[0]} (${greatest_increase[1]})\\n\"\n",
    "f\"Greatest Decrease in Profits: {greatest_decrease[0]} (${greatest_decrease[1]})\" )\n",
    "\n",
    "#Print Results\n",
    "print(Results)\n",
    "\n",
    "#Write Results into Text File\n",
    "output_path = Path('pybank.txt')   \n",
    "with open(output_path, 'w') as results:\n",
    "    results.write(Results) \n"
   ]
  },
  {
   "cell_type": "code",
   "execution_count": null,
   "id": "e645c921-cd1d-4bfb-acd8-27df705434ac",
   "metadata": {},
   "outputs": [],
   "source": []
  }
 ],
 "metadata": {
  "kernelspec": {
   "display_name": "Python 3 (ipykernel)",
   "language": "python",
   "name": "python3"
  },
  "language_info": {
   "codemirror_mode": {
    "name": "ipython",
    "version": 3
   },
   "file_extension": ".py",
   "mimetype": "text/x-python",
   "name": "python",
   "nbconvert_exporter": "python",
   "pygments_lexer": "ipython3",
   "version": "3.7.15"
  }
 },
 "nbformat": 4,
 "nbformat_minor": 5
}
